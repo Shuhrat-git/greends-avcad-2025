{
 "cells": [
  {
   "cell_type": "markdown",
   "metadata": {},
   "source": [
    "# Analysis and Visualization of Complex Agro-Environmental Data\n",
    "---\n",
    "## Introduction to Pandas\n",
    "The name `pandas` is derived from \"panel data\" and it is the ideal package to deal with structured data, most typically in the form of relational tables, i.e. a table of columns (fields or variables) that describe a listing, or rows, of data (or observations). In pandas (as in R software), a data table is called a [DataFrame](https://pandas.pydata.org/docs/reference/api/pandas.DataFrame.html#pandas.DataFrame), which is defined as a two-dimensional, size-mutable (rows and/or columns may be added or deleted), potentially heterogeneous (may contain string, numeric, boolean and missing data) tabular data. Pandas offers a wide range of tools to explore, clean, and process your data.\n",
    "\n",
    "The first step will be to [install](https://pandas.pydata.org/docs/getting_started/install.html#) pandas. Then, you will need to import pandas to your work session:"
   ]
  },
  {
   "cell_type": "code",
   "execution_count": null,
   "metadata": {},
   "outputs": [],
   "source": [
    "import pandas as pd"
   ]
  },
  {
   "cell_type": "markdown",
   "metadata": {},
   "source": [
    "We may import tabular data from a *.csv file or a *.xlsx file directly to a DataFrame using, respectively, the `read_csv` and `read_excel` funcions. Let's run an example with the table `penguins_lter.csv`, available on the \"examples\" folder of our github repository (you may run `help(pd. read_csv)` to check the arguments)"
   ]
  },
  {
   "cell_type": "code",
   "execution_count": null,
   "metadata": {},
   "outputs": [],
   "source": [
    "df = pd.read_csv (r\"C:\\Users\\psegurado\\Documents\\Aulas\\Mestrado_Data_Science\\Aulas_AVCAD_2025\\Exemplos\\penguins_lter.csv\", # the path to the file (\"r\" is used when the bars in the path are inverted)\n",
    "              sep=',', # the list separator in *.csv\n",
    "              header = 'infer', # automatically infers the header row.\n",
    "              index_col = None) # if no row indexing will be needed\n",
    "df"
   ]
  },
  {
   "cell_type": "code",
   "execution_count": null,
   "metadata": {},
   "outputs": [],
   "source": [
    "type(df)"
   ]
  },
  {
   "cell_type": "code",
   "execution_count": null,
   "metadata": {},
   "outputs": [],
   "source": [
    "len(df) # number of rows of the DataFrame"
   ]
  },
  {
   "cell_type": "markdown",
   "metadata": {},
   "source": [
    "### Handling data with pandas\n",
    "\n",
    "#### Accessing data atributes `dataframe.atribute`\n"
   ]
  },
  {
   "cell_type": "code",
   "execution_count": null,
   "metadata": {},
   "outputs": [],
   "source": [
    "df.values # returns a N dimensional matrix (array)"
   ]
  },
  {
   "cell_type": "code",
   "execution_count": null,
   "metadata": {},
   "outputs": [],
   "source": [
    "df.columns # returns a list with the header (variables) names."
   ]
  },
  {
   "cell_type": "code",
   "execution_count": null,
   "metadata": {},
   "outputs": [],
   "source": [
    "print(df. head(10)) # prints the first 10 rows."
   ]
  },
  {
   "cell_type": "markdown",
   "metadata": {},
   "source": [
    "#### Accessing and subsetting data\n",
    "\n",
    "##### Variable subsetting"
   ]
  },
  {
   "cell_type": "code",
   "execution_count": null,
   "metadata": {},
   "outputs": [],
   "source": [
    "# extract 'Species' column from df\n",
    "df['Species']"
   ]
  },
  {
   "cell_type": "code",
   "execution_count": null,
   "metadata": {},
   "outputs": [],
   "source": [
    "# or\n",
    "df.Species"
   ]
  },
  {
   "cell_type": "code",
   "execution_count": null,
   "metadata": {},
   "outputs": [],
   "source": [
    "# Extract more than one column\n",
    "df[['Species', 'Culmen Length (mm)']]"
   ]
  },
  {
   "cell_type": "code",
   "execution_count": null,
   "metadata": {},
   "outputs": [],
   "source": [
    "df.Culmen Length (mm) # ERROR - no spaces are allowed in variable names to extrac this way."
   ]
  },
  {
   "cell_type": "markdown",
   "metadata": {},
   "source": [
    "##### Row subsetting"
   ]
  },
  {
   "cell_type": "code",
   "execution_count": null,
   "metadata": {},
   "outputs": [],
   "source": [
    "df[df.Species == \"Gentoo penguin (Pygoscelis papua)\"] # extract rows containing \"Gentoo penguin (Pygoscelis papua)\" in 'Species'"
   ]
  },
  {
   "cell_type": "code",
   "execution_count": null,
   "metadata": {},
   "outputs": [],
   "source": [
    "df[df.Species != \"Adelie Penguin (Pygoscelis adeliae)\"] # extract rows not containing \"Adelie penguin (Pygoscelis adeliae)\" in 'Species'"
   ]
  },
  {
   "cell_type": "code",
   "execution_count": null,
   "metadata": {},
   "outputs": [],
   "source": [
    "df[df['Culmen Length (mm)'] > 40] # extract all rows with Culmen Length > 40 mm"
   ]
  },
  {
   "cell_type": "code",
   "execution_count": null,
   "metadata": {},
   "outputs": [],
   "source": [
    "df.sample(n=5) # random sample of 5 rows"
   ]
  },
  {
   "cell_type": "markdown",
   "metadata": {},
   "source": [
    "##### Row and column subsetting\n",
    "\n",
    "Data subsetting in pandas are often based on the `.loc` and `iloc` methods. \n",
    "\n",
    "* The `loc` method uses rows and column names: `.loc[row names , column names]`\n",
    "\n",
    "* The `iloc` method uses indices instead: `.iloc[row index> , column index]`"
   ]
  },
  {
   "cell_type": "code",
   "execution_count": null,
   "metadata": {},
   "outputs": [],
   "source": [
    "df.loc[199,'Species'] # returns 'Species' at row with index = 199 (row 200)"
   ]
  },
  {
   "cell_type": "code",
   "execution_count": null,
   "metadata": {},
   "outputs": [],
   "source": [
    "df.loc[0:4,'Species'] # returns 'Species' from rows 0 to 4 (including 4, as it assumes as a name)."
   ]
  },
  {
   "cell_type": "code",
   "execution_count": null,
   "metadata": {},
   "outputs": [],
   "source": [
    "df.loc[:,['Species','Culmen Length (mm)']] # returns 'Species' and 'Culmen Length (mm)' for all rows"
   ]
  },
  {
   "cell_type": "code",
   "execution_count": null,
   "metadata": {},
   "outputs": [],
   "source": [
    "df.iloc[0:4, [2,9]] # returns 'Species' and 'Culmen Length (mm)' for rows 0 to 3."
   ]
  },
  {
   "cell_type": "code",
   "execution_count": null,
   "metadata": {},
   "outputs": [],
   "source": [
    "df.iloc[2:4,:] # returns all columns of lines 2 and 3."
   ]
  },
  {
   "cell_type": "markdown",
   "metadata": {},
   "source": [
    "##### Summary functions"
   ]
  },
  {
   "cell_type": "code",
   "execution_count": null,
   "metadata": {},
   "outputs": [],
   "source": [
    "df['Culmen Length (mm)'].sum() # Sums all the rowws of the selected column"
   ]
  },
  {
   "cell_type": "code",
   "execution_count": null,
   "metadata": {},
   "outputs": [],
   "source": [
    "df.count() # counts rows with data"
   ]
  },
  {
   "cell_type": "code",
   "execution_count": null,
   "metadata": {},
   "outputs": [],
   "source": [
    "df.mean() # computes the mean value of only the quantitative variables (columns)"
   ]
  },
  {
   "cell_type": "code",
   "execution_count": null,
   "metadata": {},
   "outputs": [],
   "source": [
    "df['Culmen Length (mm)'].mean() # computes the mean of the selected row"
   ]
  },
  {
   "cell_type": "code",
   "execution_count": null,
   "metadata": {},
   "outputs": [],
   "source": [
    "df.describe() # computes several statistics of only the quantitative variables (columns)"
   ]
  },
  {
   "cell_type": "code",
   "execution_count": null,
   "metadata": {},
   "outputs": [],
   "source": [
    "# Same thing but now using 'round' function\n",
    "round(df.describe() ,2)"
   ]
  },
  {
   "cell_type": "markdown",
   "metadata": {},
   "source": [
    "##### Convert to other data formats"
   ]
  },
  {
   "cell_type": "code",
   "execution_count": null,
   "metadata": {},
   "outputs": [],
   "source": [
    "dflist = df.values.tolist() # converts DataFrame to a list of lists\n",
    "print(*dflist, sep=\"\\n\") # print 'each list' (defined by *) within the overall list (dflist) in different rows (defined by sep=\"\\n\")."
   ]
  },
  {
   "cell_type": "code",
   "execution_count": null,
   "metadata": {},
   "outputs": [],
   "source": [
    "\n",
    "species = df['Species'].values.tolist() # converts the variable \"Species\" into a list.\n",
    "print(species) "
   ]
  },
  {
   "cell_type": "code",
   "execution_count": null,
   "metadata": {},
   "outputs": [],
   "source": [
    "# or\n",
    "print(*species, sep=\"\\n\")"
   ]
  },
  {
   "cell_type": "markdown",
   "metadata": {},
   "source": [
    "##### Creating DataFrames"
   ]
  },
  {
   "cell_type": "code",
   "execution_count": null,
   "metadata": {},
   "outputs": [],
   "source": [
    "# Create lists\n",
    "list1 = ['Cropland', 'Forest', 'Grassland ', 'Urban']\n",
    "list2 = [60 , 20, 5, 10]"
   ]
  },
  {
   "cell_type": "code",
   "execution_count": null,
   "metadata": {},
   "outputs": [],
   "source": [
    "# Defining each list as columns\n",
    "data = list(zip(list1, list2)) # list of tuples\n",
    "newdf = pd. DataFrame(data=data , columns =['LULC', '2010'])\n",
    "print(newdf)"
   ]
  },
  {
   "cell_type": "code",
   "execution_count": null,
   "metadata": {},
   "outputs": [],
   "source": [
    "# Defining each list as rows\n",
    "newdf2 = pd.DataFrame([list1 ,list2], index =['LULC','2010'])\n",
    "print(newdf2)"
   ]
  },
  {
   "cell_type": "code",
   "execution_count": null,
   "metadata": {},
   "outputs": [],
   "source": [
    "# transpose DataFrames\n",
    "print(newdf2.T)"
   ]
  },
  {
   "cell_type": "code",
   "execution_count": null,
   "metadata": {},
   "outputs": [],
   "source": [
    "# set first row as the header names\n",
    "newdf2.columns = newdf2.iloc[0]\n",
    "newdf2 = newdf2[1:] # remove duplicated row (1)\n",
    "print(newdf2)\n",
    "\n",
    "# alternatively: \n",
    "# newdf2.rename(columns=newdf2.iloc[0]).drop(newdf2.index[0])\n",
    "# print(newdf2)\n"
   ]
  },
  {
   "cell_type": "markdown",
   "metadata": {},
   "source": [
    "##### Adding and combining"
   ]
  },
  {
   "cell_type": "code",
   "execution_count": null,
   "metadata": {},
   "outputs": [],
   "source": [
    "# Adding rows\n",
    "newdf2.loc[2] = [55, 15, 10, 15] # inserts new row in row 2\n",
    "newdf2.rename(index={2: '2020'}, inplace=True) # replace the index name by '2020'\n",
    "print(newdf2)"
   ]
  },
  {
   "cell_type": "code",
   "execution_count": null,
   "metadata": {},
   "outputs": [],
   "source": [
    "# Adding columns\n",
    "newdf['2020'] = [55, 15, 10, 15]\n",
    "print(newdf)"
   ]
  },
  {
   "cell_type": "code",
   "execution_count": null,
   "metadata": {},
   "outputs": [],
   "source": [
    "# merging DataFrames based on common fields\n",
    "\n",
    "list3 = ['Cropland', 'Forest', 'Grassland ', 'Water']\n",
    "list4 = [55 , 15, 10, 2]\n",
    "\n",
    "data2 = list(zip(list3, list4))\n",
    "newdf3 = pd.DataFrame(data=data2 , columns =['LULC', '2030']) # produce new DataFrame\n",
    "\n"
   ]
  },
  {
   "cell_type": "code",
   "execution_count": null,
   "metadata": {},
   "outputs": [],
   "source": [
    "# merging matches rows from newdf\n",
    "pd.merge(newdf, newdf3, how='left', on='LULC') "
   ]
  },
  {
   "cell_type": "code",
   "execution_count": null,
   "metadata": {},
   "outputs": [],
   "source": [
    "# merging matches rows from newdf3\n",
    "pd.merge(newdf, newdf3, how='right', on='LULC') "
   ]
  },
  {
   "cell_type": "code",
   "execution_count": null,
   "metadata": {},
   "outputs": [],
   "source": [
    "# merging matches common rows\n",
    "pd.merge(newdf, newdf3, how='inner', on='LULC') "
   ]
  },
  {
   "cell_type": "code",
   "execution_count": null,
   "metadata": {},
   "outputs": [],
   "source": [
    "# merging matches all rows\n",
    "pd.merge(newdf, newdf3, how='outer', on='LULC')"
   ]
  },
  {
   "cell_type": "markdown",
   "metadata": {},
   "source": [
    "## References\n",
    "\n",
    "pandas documentation, Version 2.2.3, 2024. https://pandas.pydata.org/docs/index.html\n",
    "\n",
    "pandas cheat sheet. https://pandas.pydata.org/Pandas_Cheat_Sheet.pdf"
   ]
  }
 ],
 "metadata": {
  "kernelspec": {
   "display_name": "Python 3",
   "language": "python",
   "name": "python3"
  },
  "language_info": {
   "codemirror_mode": {
    "name": "ipython",
    "version": 3
   },
   "file_extension": ".py",
   "mimetype": "text/x-python",
   "name": "python",
   "nbconvert_exporter": "python",
   "pygments_lexer": "ipython3",
   "version": "3.11.2"
  }
 },
 "nbformat": 4,
 "nbformat_minor": 2
}
